{
 "cells": [
  {
   "cell_type": "markdown",
   "metadata": {},
   "source": [
    "# Cloud Basics\n",
    "\n",
    "There are a number of different types of cloud storage and there are a number of tools that you can use to access your cloud storage, but here we're going to focus on a single one `mc`.\n",
    "\n",
    "`mc` is provided by the minio project and is described as \"a modern alternative to UNIX commands like ls, cat, cp, mirror, diff, find etc.\" The quickstart guide can be found under https://docs.minio.io/docs/minio-client-quickstart-guide.html For our purposes we'll focus on how to use it to upload and manage data in S3.\n",
    "\n",
    "The minio project provides a safe space for you to learn about S3: https://play.minio.io:9000/minio/ You can find the access information by using the `mc` command."
   ]
  },
  {
   "cell_type": "code",
   "execution_count": 1,
   "metadata": {},
   "outputs": [
    {
     "name": "stdout",
     "output_type": "stream",
     "text": [
      "\u001b[m\u001b[36;1mplay\r\n",
      "\u001b[0m\u001b[33m  URL       : https://play.min.io\r\n",
      "\u001b[0m\u001b[36m  AccessKey : Q3AM3UQ867SPQQA43P2F\r\n",
      "\u001b[0m\u001b[36m  SecretKey : zuf+tfteSlswRu7BJ86wekitnifILbZam1KYY3TG\r\n",
      "\u001b[0m\u001b[34m  API       : S3v4\r\n",
      "\u001b[0m\u001b[36m  Path      : auto\r\n",
      "\u001b[0m\r\n",
      "\u001b[0m"
     ]
    }
   ],
   "source": [
    "!mc config host list play"
   ]
  },
  {
   "cell_type": "markdown",
   "metadata": {},
   "source": [
    "\"AccessKey\" is basically a user name. \"SecretKey\" is basically a password. You can log in to the webpage and explore what the many other users have upload.\n",
    "\n",
    "For our purposes, we'll be using a single \"bucket\" `i2k2020`:"
   ]
  },
  {
   "cell_type": "code",
   "execution_count": 3,
   "metadata": {},
   "outputs": [
    {
     "name": "stdout",
     "output_type": "stream",
     "text": [
      "\u001b[m\u001b[32;1mBucket created successfully `play/i2k2020`.\u001b[0m\r\n",
      "\u001b[0m"
     ]
    }
   ],
   "source": [
    "!mc mb --ignore-existing play/i2k2020"
   ]
  },
  {
   "cell_type": "code",
   "execution_count": 5,
   "metadata": {},
   "outputs": [
    {
     "name": "stdout",
     "output_type": "stream",
     "text": [
      "\u001b[m\u001b[32;1mAccess permission for `play/i2k2020` is set to `public`\u001b[0m\r\n",
      "\u001b[0m"
     ]
    }
   ],
   "source": [
    "!mc policy set public play/i2k2020"
   ]
  },
  {
   "cell_type": "markdown",
   "metadata": {},
   "source": [
    "`play` is our endpoint. In the configuration, it's https://play.min.io. This differentiates it from the S3 servers provided by Amazon.\n",
    "\n",
    "`i2k2020` is the bucket, which is roughly like a shared namespace with permissions. Since it's public, anyone can access the files contained in it remotely:"
   ]
  },
  {
   "cell_type": "code",
   "execution_count": 11,
   "metadata": {
    "scrolled": true
   },
   "outputs": [
    {
     "name": "stdout",
     "output_type": "stream",
     "text": [
      "hello.txt:     14 B / 14 B  ▓▓▓▓▓▓▓▓▓▓▓▓▓▓▓▓▓▓▓▓▓▓▓▓▓▓▓▓▓▓▓▓▓▓▓▓▓▓▓▓▓  23 B/s 0s\u001b[0m\u001b[0m\u001b[m\u001b[32;1m\u001b[m\u001b[32;1m\u001b[m\u001b[32;1m\u001b[m\u001b[32;1m\u001b[m\u001b[32;1m"
     ]
    }
   ],
   "source": [
    "!mc cp --attr=Content-Type=text/plain hello.txt play/i2k2020/hello.txt"
   ]
  },
  {
   "cell_type": "code",
   "execution_count": 12,
   "metadata": {},
   "outputs": [
    {
     "name": "stdout",
     "output_type": "stream",
     "text": [
      "\u001b[m\u001b[32m[2020-11-30 17:09:20 CET]\u001b[0m\u001b[33m    14B\u001b[0m\u001b[1m hello.txt\u001b[0m\r\n",
      "\u001b[0m"
     ]
    }
   ],
   "source": [
    "!mc ls play/i2k2020/"
   ]
  },
  {
   "cell_type": "markdown",
   "metadata": {},
   "source": [
    "Now visit https://play.minio.io:9000/i2k2020/hello.txt to see what you uploaded with the key of `hello.txt`. It's no longer a file. It's now in **object storage**."
   ]
  },
  {
   "cell_type": "markdown",
   "metadata": {},
   "source": [
    "![object storage comparison](https://mk0openioo80ctbhsnje.kinstacdn.com/wp-content/uploads/2019/09/oio-block-files-object-storage-compared.png)\n",
    "\n",
    "*from https://www.openio.io/blog/block-file-object-storage-evolution-computer-storage-systems*"
   ]
  }
 ],
 "metadata": {
  "kernelspec": {
   "display_name": "Python 3",
   "language": "python",
   "name": "python3"
  },
  "language_info": {
   "codemirror_mode": {
    "name": "ipython",
    "version": 3
   },
   "file_extension": ".py",
   "mimetype": "text/x-python",
   "name": "python",
   "nbconvert_exporter": "python",
   "pygments_lexer": "ipython3",
   "version": "3.7.6"
  }
 },
 "nbformat": 4,
 "nbformat_minor": 4
}
